{
  "cells": [
    {
      "cell_type": "markdown",
      "metadata": {
        "colab_type": "text",
        "id": "view-in-github"
      },
      "source": [
        "<a href=\"https://colab.research.google.com/github/fatimaAfzaal/Multiple-Ensemble-models-Diabetes-Prediction-Project-/blob/main/MultipleEnsembleModels.ipynb\" target=\"_parent\"><img src=\"https://colab.research.google.com/assets/colab-badge.svg\" alt=\"Open In Colab\"/></a>"
      ]
    },
    {
      "cell_type": "markdown",
      "metadata": {
        "id": "uQhasmlRUq5s"
      },
      "source": [
        "# Diabetes Prediction Project Using Hybrid models\n"
      ]
    },
    {
      "cell_type": "markdown",
      "metadata": {
        "id": "2jY1KmmPYzkY"
      },
      "source": [
        "## 1. 下载及导入所需要的包"
      ]
    },
    {
      "cell_type": "code",
      "execution_count": 1,
      "metadata": {
        "colab": {
          "base_uri": "https://localhost:8080/"
        },
        "id": "76HUhjE96NRi",
        "outputId": "964e5432-1176-4762-bb9f-3ac60db89b7a"
      },
      "outputs": [],
      "source": [
        "# pip install catboost\n"
      ]
    },
    {
      "cell_type": "code",
      "execution_count": 2,
      "metadata": {
        "colab": {
          "base_uri": "https://localhost:8080/",
          "height": 423
        },
        "id": "4aOCc4F_deIL",
        "outputId": "f10c5d65-626c-4c69-91f8-c92d39a3f301"
      },
      "outputs": [],
      "source": [
        "import pandas as pd                                                        #for data manipulation\n",
        "import numpy as np                                                         #for numerical operations\n",
        "from matplotlib import pyplot as plt                                       #for visualization\n",
        "import seaborn as sns                                                      #for visualization\n",
        "from sklearn.preprocessing import StandardScaler\n",
        "\n",
        "from sklearn.ensemble import RandomForestClassifier                        #for using Random forest Classifier algorithm\n",
        "from sklearn.ensemble import AdaBoostClassifier\n",
        "from sklearn.ensemble import GradientBoostingClassifier\n",
        "from sklearn.ensemble import BaggingClassifier\n",
        "from sklearn.ensemble import ExtraTreesClassifier\n",
        "from xgboost import XGBClassifier\n",
        "from sklearn.ensemble import StackingClassifier\n",
        "from sklearn.linear_model import LogisticRegression\n",
        "from sklearn.ensemble import VotingClassifier\n",
        "from catboost import CatBoostClassifier\n",
        "from sklearn.linear_model import PassiveAggressiveClassifier\n",
        "from sklearn.neural_network import MLPClassifier\n",
        "from joblib import dump, load\n",
        "from sklearn.neighbors import KNeighborsClassifier\n",
        "\n",
        "from sklearn.metrics import accuracy_score                                 #for accouracy\n"
      ]
    },
    {
      "cell_type": "markdown",
      "metadata": {
        "id": "E7ptr0O5pafN"
      },
      "source": [
        "## 2. 导入训练集和测试集"
      ]
    },
    {
      "cell_type": "code",
      "execution_count": 3,
      "metadata": {},
      "outputs": [
        {
          "name": "stdout",
          "output_type": "stream",
          "text": [
            "Training dataset features: (74048, 15)\n",
            "Testing dataset features: (18513, 15)\n",
            "Training dataset target: (74048,)\n",
            "Testing dataset target: (18513,)\n"
          ]
        }
      ],
      "source": [
        "\n",
        "# Import training dataset / 导入训练集\n",
        "train_df = pd.read_csv(\"C:/Users/dell/Desktop/final_project/data/train_data.csv\")\n",
        "Y_train = train_df['diabetes']  # Target variable for training dataset / 训练集目标变量\n",
        "X_train = train_df.iloc[:, :-1]  # Select all rows and all columns except the last one / 选择所有行和除了最后一列以外的所有列\n",
        "\n",
        "# Import testing dataset / 导入测试集\n",
        "test_df = pd.read_csv(\"C:/Users/dell/Desktop/final_project/data/test_data.csv\")\n",
        "Y_test = test_df['diabetes']  # Target variable for testing dataset / 测试集目标变量\n",
        "X_test = test_df.iloc[:, :-1]  # Select all rows and all columns except the last one / 选择所有行和除了最后一列以外的所有列\n",
        "\n",
        "# Output the result / 输出结果\n",
        "print(\"Training dataset features:\", X_train.shape)  # 训练集特征\n",
        "print(\"Testing dataset features:\", X_test.shape)  # 测试集特征\n",
        "print(\"Training dataset target:\", Y_train.shape)  # 训练集目标\n",
        "print(\"Testing dataset target:\", Y_test.shape)  # 测试集目标\n"
      ]
    },
    {
      "cell_type": "code",
      "execution_count": null,
      "metadata": {},
      "outputs": [],
      "source": []
    },
    {
      "cell_type": "code",
      "execution_count": 4,
      "metadata": {},
      "outputs": [
        {
          "name": "stdout",
          "output_type": "stream",
          "text": [
            "Standardized Training dataset features: (74048, 15)\n",
            "Standardized Testing dataset features: (18513, 15)\n",
            "\n",
            "Standardized Training Data (First 5 rows):\n",
            "        age  hypertension  heart_disease       bmi  HbA1c_level  \\\n",
            "0  0.679474     -0.289059      -0.205737 -1.922380     0.610237   \n",
            "1  0.501401     -0.289059      -0.205737  0.170888    -1.996087   \n",
            "2 -1.679986     -0.289059      -0.205737 -2.006818    -0.692925   \n",
            "3  1.302728     -0.289059      -0.205737  0.170888     0.610237   \n",
            "4  0.323329     -0.289059      -0.205737  2.205246     0.710480   \n",
            "\n",
            "   blood_glucose_level  diabetes  gender_Female  gender_Male  gender_Other  \\\n",
            "0             1.851414 -0.310625      -1.187544     1.187973     -0.013251   \n",
            "1             0.282064 -0.310625       0.842074    -0.841770     -0.013251   \n",
            "2            -1.429954 -0.310625       0.842074    -0.841770     -0.013251   \n",
            "3             1.851414 -0.310625      -1.187544     1.187973     -0.013251   \n",
            "4            -1.001949 -0.310625       0.842074    -0.841770     -0.013251   \n",
            "\n",
            "   smoking_history_No Info  smoking_history_current  smoking_history_ever  \\\n",
            "0                -0.723379                -0.323878             -0.205986   \n",
            "1                -0.723379                -0.323878             -0.205986   \n",
            "2                 1.382402                -0.323878             -0.205986   \n",
            "3                -0.723379                -0.323878             -0.205986   \n",
            "4                -0.723379                -0.323878              4.854690   \n",
            "\n",
            "   smoking_history_former  smoking_history_never  \n",
            "0               -0.326620               1.337379  \n",
            "1               -0.326620               1.337379  \n",
            "2               -0.326620              -0.747731  \n",
            "3                3.061662              -0.747731  \n",
            "4               -0.326620              -0.747731  \n",
            "\n",
            "Standardized Testing Data (First 5 rows):\n",
            "        age  hypertension  heart_disease       bmi  HbA1c_level  \\\n",
            "0  0.590438     -0.289059      -0.205737  0.392782     0.610237   \n",
            "1 -1.368359     -0.289059      -0.205737  0.363327     0.209264   \n",
            "2 -1.234805     -0.289059      -0.205737 -0.589051     0.309507   \n",
            "3  0.723992     -0.289059      -0.205737  0.170888     0.710480   \n",
            "4  0.145256     -0.289059      -0.205737  0.245507     0.710480   \n",
            "\n",
            "   blood_glucose_level  diabetes  gender_Female  gender_Male  gender_Other  \\\n",
            "0            -1.429954 -0.310625       0.842074    -0.841770     -0.013251   \n",
            "1             0.653001 -0.310625      -1.187544     1.187973     -0.013251   \n",
            "2             0.282064 -0.310625      -1.187544     1.187973     -0.013251   \n",
            "3             0.653001 -0.310625       0.842074    -0.841770     -0.013251   \n",
            "4            -1.001949 -0.310625      -1.187544     1.187973     -0.013251   \n",
            "\n",
            "   smoking_history_No Info  smoking_history_current  smoking_history_ever  \\\n",
            "0                 1.382402                -0.323878             -0.205986   \n",
            "1                 1.382402                -0.323878             -0.205986   \n",
            "2                -0.723379                -0.323878             -0.205986   \n",
            "3                 1.382402                -0.323878             -0.205986   \n",
            "4                -0.723379                -0.323878             -0.205986   \n",
            "\n",
            "   smoking_history_former  smoking_history_never  \n",
            "0                -0.32662              -0.747731  \n",
            "1                -0.32662              -0.747731  \n",
            "2                -0.32662               1.337379  \n",
            "3                -0.32662              -0.747731  \n",
            "4                -0.32662               1.337379  \n"
          ]
        }
      ],
      "source": [
        "# 假设 X_train 和 X_test 是已经划分好的训练集和测试集（DataFrame格式）\n",
        "\n",
        "# 保存列名\n",
        "columns = X_train.columns\n",
        "\n",
        "# 初始化StandardScaler\n",
        "scaler = StandardScaler()\n",
        "\n",
        "# 对训练集进行标准化（fit + transform）\n",
        "X_train = scaler.fit_transform(X_train)\n",
        "\n",
        "# 对测试集进行标准化（仅 transform，防止数据泄漏）\n",
        "X_test = scaler.transform(X_test)\n",
        "\n",
        "# 转换回DataFrame，并指定列名\n",
        "X_train = pd.DataFrame(X_train, columns=columns)\n",
        "X_test = pd.DataFrame(X_test, columns=columns)\n",
        "\n",
        "# 输出标准化后的数据形状\n",
        "print(\"Standardized Training dataset features:\", X_train.shape)\n",
        "print(\"Standardized Testing dataset features:\", X_test.shape)\n",
        "\n",
        "# 打印标准化后的训练集和测试集的前五行\n",
        "print(\"\\nStandardized Training Data (First 5 rows):\")\n",
        "print(X_train.head())\n",
        "\n",
        "print(\"\\nStandardized Testing Data (First 5 rows):\")\n",
        "print(X_test.head())"
      ]
    },
    {
      "cell_type": "code",
      "execution_count": 9,
      "metadata": {},
      "outputs": [
        {
          "name": "stdout",
          "output_type": "stream",
          "text": [
            "重复样本数量: 18513\n"
          ]
        }
      ],
      "source": [
        "# 检查是否有重复行\n",
        "duplicates = X_train.index.isin(X_test.index)\n",
        "print(\"重复样本数量:\", sum(duplicates))"
      ]
    },
    {
      "cell_type": "markdown",
      "metadata": {
        "id": "R8WS3MgVZ3ym"
      },
      "source": [
        "# 模型的选择与训练\n",
        "Firstly we will select the right algorithm according to our requirement and then we will train data on model"
      ]
    },
    {
      "cell_type": "code",
      "execution_count": 8,
      "metadata": {},
      "outputs": [
        {
          "name": "stdout",
          "output_type": "stream",
          "text": [
            "\n",
            "=== Random Forest ===\n",
            "Accuracy: 1.0000\n",
            "Precision: 1.0000\n",
            "F1-Score: 1.0000\n",
            "\n",
            "=== AdaBoost ===\n",
            "Accuracy: 1.0000\n",
            "Precision: 1.0000\n",
            "F1-Score: 1.0000\n",
            "\n",
            "=== Gradient Boosting ===\n",
            "Accuracy: 1.0000\n",
            "Precision: 1.0000\n",
            "F1-Score: 1.0000\n",
            "\n",
            "=== Bagging ===\n",
            "Accuracy: 1.0000\n",
            "Precision: 1.0000\n",
            "F1-Score: 1.0000\n",
            "\n",
            "=== Extra Trees ===\n",
            "Accuracy: 1.0000\n",
            "Precision: 1.0000\n",
            "F1-Score: 1.0000\n",
            "\n",
            "=== XGBoost ===\n",
            "Accuracy: 1.0000\n",
            "Precision: 1.0000\n",
            "F1-Score: 1.0000\n",
            "\n",
            "=== Neural Network ===\n",
            "Accuracy: 1.0000\n",
            "Precision: 1.0000\n",
            "F1-Score: 1.0000\n",
            "\n",
            "=== KNN ===\n",
            "Accuracy: 1.0000\n",
            "Precision: 1.0000\n",
            "F1-Score: 1.0000\n",
            "\n",
            "=== Passive Aggressive ===\n",
            "Accuracy: 1.0000\n",
            "Precision: 1.0000\n",
            "F1-Score: 1.0000\n",
            "\n",
            "=== CatBoost ===\n",
            "Accuracy: 1.0000\n",
            "Precision: 1.0000\n",
            "F1-Score: 1.0000\n"
          ]
        }
      ],
      "source": [
        "from sklearn.metrics import accuracy_score, precision_score, f1_score\n",
        "\n",
        "# 定义所有模型的配置（名称、模型类、参数）\n",
        "model_configs = [\n",
        "    {\n",
        "        'name': 'Random Forest',\n",
        "        'class': RandomForestClassifier,\n",
        "        'params': {'n_estimators': 50, 'random_state': 42}\n",
        "    },\n",
        "    {\n",
        "        'name': 'AdaBoost',\n",
        "        'class': AdaBoostClassifier,\n",
        "        'params': {'n_estimators': 50, 'random_state': 42}\n",
        "    },\n",
        "    {\n",
        "        'name': 'Gradient Boosting',\n",
        "        'class': GradientBoostingClassifier,\n",
        "        'params': {'n_estimators': 50, 'random_state': 42}\n",
        "    },\n",
        "    {\n",
        "        'name': 'Bagging',\n",
        "        'class': BaggingClassifier,\n",
        "        'params': {'n_estimators': 50, 'random_state': 42}\n",
        "    },\n",
        "    {\n",
        "        'name': 'Extra Trees',\n",
        "        'class': ExtraTreesClassifier,\n",
        "        'params': {'n_estimators': 50, 'random_state': 42}\n",
        "    },\n",
        "    {\n",
        "        'name': 'XGBoost',\n",
        "        'class': XGBClassifier,\n",
        "        'params': {'n_estimators': 50, 'random_state': 42}\n",
        "    },\n",
        "    {\n",
        "        'name': 'Neural Network',\n",
        "        'class': MLPClassifier,\n",
        "        'params': {'hidden_layer_sizes': (100, 50), 'max_iter': 200, 'random_state': 42}\n",
        "    },\n",
        "    {\n",
        "        'name': 'KNN',\n",
        "        'class': KNeighborsClassifier,\n",
        "        'params': {'n_neighbors': 6}\n",
        "    },\n",
        "    {\n",
        "        'name': 'Passive Aggressive',\n",
        "        'class': PassiveAggressiveClassifier,\n",
        "        'params': {'C': 1.0, 'random_state': 42}\n",
        "    },\n",
        "    {\n",
        "        'name': 'CatBoost',\n",
        "        'class': CatBoostClassifier,\n",
        "        'params': {'iterations': 50, 'learning_rate': 0.1, 'depth': 6, 'random_state': 42, 'verbose': 0}\n",
        "    }\n",
        "]\n",
        "\n",
        "# 统一训练并评估每个模型\n",
        "for config in model_configs:\n",
        "    model_name = config['name']\n",
        "    model = config['class'](**config['params'])\n",
        "    \n",
        "    # 训练模型\n",
        "    model.fit(X_train, Y_train)\n",
        "    \n",
        "    # 预测测试集\n",
        "    Y_pred = model.predict(X_test)\n",
        "    \n",
        "    # 计算指标\n",
        "    acc = accuracy_score(Y_test, Y_pred)\n",
        "    pre = precision_score(Y_test, Y_pred, average='weighted')  # 多分类使用 weighted\n",
        "    f1 = f1_score(Y_test, Y_pred, average='weighted')\n",
        "    \n",
        "    # 打印结果\n",
        "    print(f\"\\n=== {model_name} ===\")\n",
        "    print(f\"Accuracy: {acc:.4f}\")\n",
        "    print(f\"Precision: {pre:.4f}\")\n",
        "    print(f\"F1-Score: {f1:.4f}\")"
      ]
    },
    {
      "cell_type": "code",
      "execution_count": null,
      "metadata": {},
      "outputs": [],
      "source": []
    },
    {
      "cell_type": "code",
      "execution_count": null,
      "metadata": {},
      "outputs": [],
      "source": [
        "# List of models and their names\n",
        "models = {\n",
        "    'random_forest': rf,\n",
        "    'adaboost': ab,\n",
        "    'gradient_boosting': gb,\n",
        "    'bagging': bagging,\n",
        "    'extra_trees': extra_trees,\n",
        "    'xgboost': xgboost,\n",
        "    'neural_network': nn_model,\n",
        "    'knn' :knn_model,\n",
        "    'pa': pa_model,\n",
        "    'catboost':catboost_model\n",
        "}\n",
        "\n",
        "# Save models\n",
        "for model_name, model in models.items():\n",
        "    dump(model, f'{model_name}_model.joblib')\n",
        "\n",
        "# Load models\n",
        "loaded_models = {}\n",
        "for model_name in models.keys():\n",
        "    loaded_models[model_name] = load(f'{model_name}_model.joblib')\n"
      ]
    },
    {
      "cell_type": "code",
      "execution_count": null,
      "metadata": {},
      "outputs": [],
      "source": []
    },
    {
      "cell_type": "markdown",
      "metadata": {},
      "source": [
        "## 使用grid search来搜索最佳超参数"
      ]
    },
    {
      "cell_type": "code",
      "execution_count": null,
      "metadata": {},
      "outputs": [
        {
          "name": "stdout",
          "output_type": "stream",
          "text": [
            "Fitting 3 folds for each of 24 candidates, totalling 72 fits\n",
            "Best parameters for Random Forest: {'max_depth': 20, 'min_samples_leaf': 1, 'min_samples_split': 5, 'n_estimators': 100}\n",
            "Fitting 3 folds for each of 9 candidates, totalling 27 fits\n",
            "Best parameters for AdaBoost: {'learning_rate': 1.0, 'n_estimators': 200}\n",
            "Fitting 3 folds for each of 27 candidates, totalling 81 fits\n",
            "Best parameters for Gradient Boosting: {'learning_rate': 0.1, 'max_depth': 3, 'n_estimators': 100}\n",
            "Fitting 3 folds for each of 27 candidates, totalling 81 fits\n",
            "Best parameters for Bagging: {'max_features': 0.7, 'max_samples': 0.7, 'n_estimators': 100}\n",
            "Fitting 3 folds for each of 36 candidates, totalling 108 fits\n",
            "Best parameters for Extra Trees: {'max_depth': 20, 'min_samples_leaf': 1, 'min_samples_split': 2, 'n_estimators': 100}\n",
            "Fitting 3 folds for each of 27 candidates, totalling 81 fits\n",
            "Best parameters for XGBoost: {'learning_rate': 0.1, 'max_depth': 5, 'n_estimators': 100}\n",
            "Fitting 3 folds for each of 48 candidates, totalling 144 fits\n",
            "Best parameters for Neural Network: {'activation': 'tanh', 'alpha': 0.0001, 'hidden_layer_sizes': (100, 50), 'learning_rate_init': 0.001, 'solver': 'adam'}\n",
            "Fitting 3 folds for each of 12 candidates, totalling 36 fits\n",
            "Best parameters for Logistic Regression: {'C': 1.0, 'max_iter': 100, 'solver': 'liblinear'}\n"
          ]
        }
      ],
      "source": [
        "# 调参数\n",
        "from sklearn.model_selection import GridSearchCV\n",
        "from sklearn.ensemble import RandomForestClassifier, AdaBoostClassifier, GradientBoostingClassifier, BaggingClassifier, ExtraTreesClassifier\n",
        "from xgboost import XGBClassifier\n",
        "from sklearn.neural_network import MLPClassifier\n",
        "from sklearn.linear_model import LogisticRegression\n",
        "\n",
        "# Random Forest\n",
        "rf_param_grid = {\n",
        "    'n_estimators': [100, 200],\n",
        "    'max_depth': [None, 10, 20],\n",
        "    'min_samples_split': [2, 5],\n",
        "    'min_samples_leaf': [1, 2]\n",
        "}\n",
        "\n",
        "rf_grid_search = GridSearchCV(RandomForestClassifier(), rf_param_grid, cv=3, n_jobs=-1, verbose=2)\n",
        "rf_grid_search.fit(X_train, Y_train)\n",
        "print(\"Best parameters for Random Forest:\", rf_grid_search.best_params_)\n",
        "\n",
        "# AdaBoost\n",
        "ab_param_grid = {\n",
        "    'n_estimators': [50, 100, 200],\n",
        "    'learning_rate': [0.01, 0.1, 1.0]\n",
        "}\n",
        "\n",
        "ab_grid_search = GridSearchCV(AdaBoostClassifier(), ab_param_grid, cv=3, n_jobs=-1, verbose=2)\n",
        "ab_grid_search.fit(X_train, Y_train)\n",
        "print(\"Best parameters for AdaBoost:\", ab_grid_search.best_params_)\n",
        "\n",
        "# Gradient Boosting\n",
        "gb_param_grid = {\n",
        "    'n_estimators': [50, 100, 200],\n",
        "    'learning_rate': [0.01, 0.1, 0.5],\n",
        "    'max_depth': [3, 5, 7],\n",
        "}\n",
        "\n",
        "gb_grid_search = GridSearchCV(GradientBoostingClassifier(), gb_param_grid, cv=3, n_jobs=-1, verbose=2)\n",
        "gb_grid_search.fit(X_train, Y_train)\n",
        "print(\"Best parameters for Gradient Boosting:\", gb_grid_search.best_params_)\n",
        "\n",
        "# Bagging\n",
        "bagging_param_grid = {\n",
        "    'n_estimators': [50, 100, 200],\n",
        "    'max_samples': [0.5, 0.7, 1.0],\n",
        "    'max_features': [0.5, 0.7, 1.0]\n",
        "}\n",
        "\n",
        "bagging_grid_search = GridSearchCV(BaggingClassifier(), bagging_param_grid, cv=3, n_jobs=-1, verbose=2)\n",
        "bagging_grid_search.fit(X_train, Y_train)\n",
        "print(\"Best parameters for Bagging:\", bagging_grid_search.best_params_)\n",
        "\n",
        "# Extra Trees\n",
        "extra_trees_param_grid = {\n",
        "    'n_estimators': [50, 100, 200],\n",
        "    'max_depth': [None, 10, 20],\n",
        "    'min_samples_split': [2, 5],\n",
        "    'min_samples_leaf': [1, 2]\n",
        "}\n",
        "\n",
        "extra_trees_grid_search = GridSearchCV(ExtraTreesClassifier(), extra_trees_param_grid, cv=3, n_jobs=-1, verbose=2)\n",
        "extra_trees_grid_search.fit(X_train, Y_train)\n",
        "print(\"Best parameters for Extra Trees:\", extra_trees_grid_search.best_params_)\n",
        "\n",
        "# XGBoost\n",
        "xgboost_param_grid = {\n",
        "    'n_estimators': [50, 100, 200],\n",
        "    'learning_rate': [0.01, 0.1, 0.5],\n",
        "    'max_depth': [3, 5, 7],\n",
        "}\n",
        "\n",
        "xgboost_grid_search = GridSearchCV(XGBClassifier(), xgboost_param_grid, cv=3, n_jobs=-1, verbose=2)\n",
        "xgboost_grid_search.fit(X_train, Y_train)\n",
        "print(\"Best parameters for XGBoost:\", xgboost_grid_search.best_params_)\n",
        "\n",
        "# Neural Network (MLP)\n",
        "nn_param_grid = {\n",
        "    'hidden_layer_sizes': [(50,), (100,), (100, 50)],\n",
        "    'activation': ['relu', 'tanh'],\n",
        "    'solver': ['adam', 'sgd'],\n",
        "    'alpha': [0.0001, 0.001],\n",
        "    'learning_rate_init': [0.001, 0.01]\n",
        "}\n",
        "\n",
        "nn_grid_search = GridSearchCV(MLPClassifier(max_iter=1000), nn_param_grid, cv=3, n_jobs=-1, verbose=2)\n",
        "nn_grid_search.fit(X_train, Y_train)\n",
        "print(\"Best parameters for Neural Network:\", nn_grid_search.best_params_)\n",
        "\n",
        "# 定义超参数搜索空间 / Define hyperparameter search space\n",
        "knn_param_grid = {\n",
        "    'n_neighbors': [3, 5, 7, 10], \n",
        "    'weights': ['uniform', 'distance'], \n",
        "    'algorithm': ['auto', 'ball_tree', 'kd_tree', 'brute'], \n",
        "    'leaf_size': [30, 40, 50],  \n",
        "    'p': [1, 2],\n",
        "    'metric': ['euclidean', 'manhattan', 'minkowski'] \n",
        "}\n",
        "\n",
        "# 使用 GridSearchCV 进行超参数调优 / use gridsearch to tuning the hyperparameter   \n",
        "knn_grid_search = GridSearchCV(KNeighborsClassifier(), knn_param_grid, cv=3, n_jobs=-1, verbose=2)\n",
        "knn_grid_search.fit(X_train, Y_train)\n",
        "\n",
        "# 1. PassiveAggressiveClassifier Hyperparameter Tuning\n",
        "pa_param_grid = {\n",
        "    'C': [0.1, 0.5, 1.0, 5.0],  # Regularization parameter\n",
        "    'max_iter': [50, 100, 200],  # Maximum number of iterations\n",
        "    'tol': [1e-4, 1e-3],  # Tolerance for stopping criteria\n",
        "}\n",
        "\n",
        "pa_grid_search = GridSearchCV(PassiveAggressiveClassifier(random_state=42), \n",
        "                              pa_param_grid, \n",
        "                              cv=3,  # 3-fold cross-validation\n",
        "                              n_jobs=-1,  # Use all available CPUs\n",
        "                              verbose=2)\n",
        "\n",
        "pa_grid_search.fit(X_train, Y_train)\n",
        "\n",
        "# 2. CatBoostClassifier Hyperparameter Tuning\n",
        "catboost_param_grid = {\n",
        "    'iterations': [100, 200],  # Number of boosting iterations\n",
        "    'learning_rate': [0.01, 0.1, 0.2],  # Learning rate\n",
        "    'depth': [4, 6, 8],  # Depth of the trees\n",
        "    'l2_leaf_reg': [1, 3, 5],  # L2 regularization term\n",
        "}\n",
        "\n",
        "catboost_grid_search = GridSearchCV(CatBoostClassifier(random_state=42, verbose=0), \n",
        "                                    catboost_param_grid, \n",
        "                                    cv=3,  # 3-fold cross-validation\n",
        "                                    n_jobs=-1,  # Use all available CPUs\n",
        "                                    verbose=2)\n",
        "\n",
        "catboost_grid_search.fit(X_train, Y_train)\n"
      ]
    },
    {
      "cell_type": "code",
      "execution_count": null,
      "metadata": {},
      "outputs": [
        {
          "name": "stdout",
          "output_type": "stream",
          "text": [
            "Fitting 3 folds for each of 576 candidates, totalling 1728 fits\n"
          ]
        },
        {
          "name": "stderr",
          "output_type": "stream",
          "text": [
            "d:\\Anconda3\\Lib\\site-packages\\sklearn\\model_selection\\_search.py:976: UserWarning: One or more of the test scores are non-finite: [0.92500619 0.92309237 0.92500619 0.92309237 0.9290499  0.92767627\n",
            " 0.9290499  0.92767627 0.93023833 0.92920425 0.93023833 0.92920425\n",
            " 0.93134955 0.93023831 0.93134955 0.93023831 0.92446599 0.92210458\n",
            " 0.92446599 0.92210458 0.9288647  0.92687371 0.9288647  0.92687371\n",
            " 0.9308248  0.92940486 0.9308248  0.92940486 0.93124153 0.92992963\n",
            " 0.93124153 0.92992963 0.92446599 0.92210458 0.92500619 0.92309237\n",
            " 0.9288647  0.92687371 0.9290499  0.92767627 0.9308248  0.92940486\n",
            " 0.93023833 0.92920425 0.93124153 0.92992963 0.93134955 0.93023831\n",
            " 0.92500619 0.92309237 0.92500619 0.92309237 0.9290499  0.92767627\n",
            " 0.9290499  0.92767627 0.93023833 0.92920425 0.93023833 0.92920425\n",
            " 0.93134955 0.93023831 0.93134955 0.93023831 0.92446599 0.92210458\n",
            " 0.92446599 0.92210458 0.9288647  0.92687371 0.9288647  0.92687371\n",
            " 0.9308248  0.92940486 0.9308248  0.92940486 0.93124153 0.92992963\n",
            " 0.93124153 0.92992963 0.92446599 0.92210458 0.92500619 0.92309237\n",
            " 0.9288647  0.92687371 0.9290499  0.92767627 0.9308248  0.92940486\n",
            " 0.93023833 0.92920425 0.93124153 0.92992963 0.93134955 0.93023831\n",
            " 0.92500619 0.9230615  0.92500619 0.9230615  0.9290036  0.92770714\n",
            " 0.9290036  0.92770714 0.93017659 0.92914251 0.93017659 0.92914251\n",
            " 0.93128782 0.93023831 0.93128782 0.93023831 0.92458946 0.92221262\n",
            " 0.92458946 0.92221262 0.9288184  0.92684284 0.9288184  0.92684284\n",
            " 0.93076307 0.92934313 0.93076307 0.92934313 0.93124153 0.92999136\n",
            " 0.93124153 0.92999136 0.92458946 0.92221262 0.92500619 0.9230615\n",
            " 0.9288184  0.92684284 0.9290036  0.92770714 0.93076307 0.92934313\n",
            " 0.93017659 0.92914251 0.93124153 0.92999136 0.93128782 0.93023831\n",
            " 0.92499075 0.92309237 0.92499075 0.92309237 0.92911163 0.92772257\n",
            " 0.92911163 0.92772257 0.93022289 0.92926598 0.93022289 0.92926598\n",
            " 0.93134955 0.93031548 0.93134955 0.93031548 0.92446599 0.92205828\n",
            " 0.92446599 0.92205828 0.92897274 0.92701261 0.92897274 0.92701261\n",
            " 0.93076307 0.92937399 0.93076307 0.92937399 0.93128783 0.9299605\n",
            " 0.93128783 0.9299605  0.92446599 0.92205828 0.92499075 0.92309237\n",
            " 0.92897274 0.92701261 0.92911163 0.92772257 0.93076307 0.92937399\n",
            " 0.93022289 0.92926598 0.93128783 0.9299605  0.93134955 0.93031548\n",
            " 0.92499075 0.92309237 0.92499075 0.92309237 0.92911163 0.92772257\n",
            " 0.92911163 0.92772257 0.93022289 0.92926598 0.93022289 0.92926598\n",
            " 0.93134955 0.93031548 0.93134955 0.93031548 0.92446599 0.92205828\n",
            " 0.92446599 0.92205828 0.92897274 0.92701261 0.92897274 0.92701261\n",
            " 0.93076307 0.92937399 0.93076307 0.92937399 0.93128783 0.9299605\n",
            " 0.93128783 0.9299605  0.92446599 0.92205828 0.92499075 0.92309237\n",
            " 0.92897274 0.92701261 0.92911163 0.92772257 0.93076307 0.92937399\n",
            " 0.93022289 0.92926598 0.93128783 0.9299605  0.93134955 0.93031548\n",
            " 0.92506792 0.9231078  0.92506792 0.9231078  0.9290499  0.92772257\n",
            " 0.9290499  0.92772257 0.93017659 0.92915794 0.93017659 0.92915794\n",
            " 0.93138042 0.93034634 0.93138042 0.93034634 0.92445056 0.92204285\n",
            " 0.92445056 0.92204285 0.9288647  0.92687371 0.9288647  0.92687371\n",
            " 0.93076307 0.92932769 0.93076307 0.92932769 0.93125696 0.92999136\n",
            " 0.93125696 0.92999136 0.92445056 0.92204285 0.92506792 0.9231078\n",
            " 0.9288647  0.92687371 0.9290499  0.92772257 0.93076307 0.92932769\n",
            " 0.93017659 0.92915794 0.93125696 0.92999136 0.93138042 0.93034634\n",
            " 0.92500619 0.92309237 0.92500619 0.92309237 0.9290499  0.92767627\n",
            " 0.9290499  0.92767627 0.93023833 0.92920425 0.93023833 0.92920425\n",
            " 0.93134955 0.93023831 0.93134955 0.93023831 0.92446599 0.92210458\n",
            " 0.92446599 0.92210458 0.9288647  0.92687371 0.9288647  0.92687371\n",
            " 0.9308248  0.92940486 0.9308248  0.92940486 0.93124153 0.92992963\n",
            " 0.93124153 0.92992963 0.92446599 0.92210458 0.92500619 0.92309237\n",
            " 0.9288647  0.92687371 0.9290499  0.92767627 0.9308248  0.92940486\n",
            " 0.93023833 0.92920425 0.93124153 0.92992963 0.93134955 0.93023831\n",
            " 0.92500619 0.92309237 0.92500619 0.92309237 0.9290499  0.92767627\n",
            " 0.9290499  0.92767627 0.93023833 0.92920425 0.93023833 0.92920425\n",
            " 0.93134955 0.93023831 0.93134955 0.93023831 0.92446599 0.92210458\n",
            " 0.92446599 0.92210458 0.9288647  0.92687371 0.9288647  0.92687371\n",
            " 0.9308248  0.92940486 0.9308248  0.92940486 0.93124153 0.92992963\n",
            " 0.93124153 0.92992963 0.92446599 0.92210458 0.92500619 0.92309237\n",
            " 0.9288647  0.92687371 0.9290499  0.92767627 0.9308248  0.92940486\n",
            " 0.93023833 0.92920425 0.93124153 0.92992963 0.93134955 0.93023831\n",
            " 0.92500619 0.9230615  0.92500619 0.9230615  0.9290036  0.92770714\n",
            " 0.9290036  0.92770714 0.93017659 0.92914251 0.93017659 0.92914251\n",
            " 0.93128782 0.93023831 0.93128782 0.93023831 0.92458946 0.92221262\n",
            " 0.92458946 0.92221262 0.9288184  0.92684284 0.9288184  0.92684284\n",
            " 0.93076307 0.92934313 0.93076307 0.92934313 0.93124153 0.92999136\n",
            " 0.93124153 0.92999136 0.92458946 0.92221262 0.92500619 0.9230615\n",
            " 0.9288184  0.92684284 0.9290036  0.92770714 0.93076307 0.92934313\n",
            " 0.93017659 0.92914251 0.93124153 0.92999136 0.93128782 0.93023831\n",
            "        nan 0.92299977        nan 0.92299977        nan 0.92767627\n",
            "        nan 0.92767627        nan 0.92921968        nan 0.92921968\n",
            "        nan 0.93022287        nan 0.93022287        nan 0.92221262\n",
            "        nan 0.92221262        nan 0.92693544        nan 0.92693544\n",
            "        nan 0.92943573        nan 0.92943573        nan 0.92991419\n",
            "        nan 0.92991419        nan 0.92221262        nan 0.92299977\n",
            "        nan 0.92693544        nan 0.92767627        nan 0.92943573\n",
            "        nan 0.92921968        nan 0.92991419        nan 0.93022287\n",
            "        nan 0.92299977        nan 0.92299977        nan 0.92767627\n",
            "        nan 0.92767627        nan 0.92921968        nan 0.92921968\n",
            "        nan 0.93022287        nan 0.93022287        nan 0.92221262\n",
            "        nan 0.92221262        nan 0.92693544        nan 0.92693544\n",
            "        nan 0.92943573        nan 0.92943573        nan 0.92991419\n",
            "        nan 0.92991419        nan 0.92221262        nan 0.92299977\n",
            "        nan 0.92693544        nan 0.92767627        nan 0.92943573\n",
            "        nan 0.92921968        nan 0.92991419        nan 0.93022287\n",
            "        nan 0.92299977        nan 0.92299977        nan 0.92767627\n",
            "        nan 0.92767627        nan 0.92921968        nan 0.92921968\n",
            "        nan 0.93022287        nan 0.93022287        nan 0.92221262\n",
            "        nan 0.92221262        nan 0.92693544        nan 0.92693544\n",
            "        nan 0.92943573        nan 0.92943573        nan 0.92991419\n",
            "        nan 0.92991419        nan 0.92221262        nan 0.92299977\n",
            "        nan 0.92693544        nan 0.92767627        nan 0.92943573\n",
            "        nan 0.92921968        nan 0.92991419        nan 0.93022287]\n",
            "  warnings.warn(\n"
          ]
        },
        {
          "data": {
            "text/html": [
              "<style>#sk-container-id-1 {color: black;}#sk-container-id-1 pre{padding: 0;}#sk-container-id-1 div.sk-toggleable {background-color: white;}#sk-container-id-1 label.sk-toggleable__label {cursor: pointer;display: block;width: 100%;margin-bottom: 0;padding: 0.3em;box-sizing: border-box;text-align: center;}#sk-container-id-1 label.sk-toggleable__label-arrow:before {content: \"▸\";float: left;margin-right: 0.25em;color: #696969;}#sk-container-id-1 label.sk-toggleable__label-arrow:hover:before {color: black;}#sk-container-id-1 div.sk-estimator:hover label.sk-toggleable__label-arrow:before {color: black;}#sk-container-id-1 div.sk-toggleable__content {max-height: 0;max-width: 0;overflow: hidden;text-align: left;background-color: #f0f8ff;}#sk-container-id-1 div.sk-toggleable__content pre {margin: 0.2em;color: black;border-radius: 0.25em;background-color: #f0f8ff;}#sk-container-id-1 input.sk-toggleable__control:checked~div.sk-toggleable__content {max-height: 200px;max-width: 100%;overflow: auto;}#sk-container-id-1 input.sk-toggleable__control:checked~label.sk-toggleable__label-arrow:before {content: \"▾\";}#sk-container-id-1 div.sk-estimator input.sk-toggleable__control:checked~label.sk-toggleable__label {background-color: #d4ebff;}#sk-container-id-1 div.sk-label input.sk-toggleable__control:checked~label.sk-toggleable__label {background-color: #d4ebff;}#sk-container-id-1 input.sk-hidden--visually {border: 0;clip: rect(1px 1px 1px 1px);clip: rect(1px, 1px, 1px, 1px);height: 1px;margin: -1px;overflow: hidden;padding: 0;position: absolute;width: 1px;}#sk-container-id-1 div.sk-estimator {font-family: monospace;background-color: #f0f8ff;border: 1px dotted black;border-radius: 0.25em;box-sizing: border-box;margin-bottom: 0.5em;}#sk-container-id-1 div.sk-estimator:hover {background-color: #d4ebff;}#sk-container-id-1 div.sk-parallel-item::after {content: \"\";width: 100%;border-bottom: 1px solid gray;flex-grow: 1;}#sk-container-id-1 div.sk-label:hover label.sk-toggleable__label {background-color: #d4ebff;}#sk-container-id-1 div.sk-serial::before {content: \"\";position: absolute;border-left: 1px solid gray;box-sizing: border-box;top: 0;bottom: 0;left: 50%;z-index: 0;}#sk-container-id-1 div.sk-serial {display: flex;flex-direction: column;align-items: center;background-color: white;padding-right: 0.2em;padding-left: 0.2em;position: relative;}#sk-container-id-1 div.sk-item {position: relative;z-index: 1;}#sk-container-id-1 div.sk-parallel {display: flex;align-items: stretch;justify-content: center;background-color: white;position: relative;}#sk-container-id-1 div.sk-item::before, #sk-container-id-1 div.sk-parallel-item::before {content: \"\";position: absolute;border-left: 1px solid gray;box-sizing: border-box;top: 0;bottom: 0;left: 50%;z-index: -1;}#sk-container-id-1 div.sk-parallel-item {display: flex;flex-direction: column;z-index: 1;position: relative;background-color: white;}#sk-container-id-1 div.sk-parallel-item:first-child::after {align-self: flex-end;width: 50%;}#sk-container-id-1 div.sk-parallel-item:last-child::after {align-self: flex-start;width: 50%;}#sk-container-id-1 div.sk-parallel-item:only-child::after {width: 0;}#sk-container-id-1 div.sk-dashed-wrapped {border: 1px dashed gray;margin: 0 0.4em 0.5em 0.4em;box-sizing: border-box;padding-bottom: 0.4em;background-color: white;}#sk-container-id-1 div.sk-label label {font-family: monospace;font-weight: bold;display: inline-block;line-height: 1.2em;}#sk-container-id-1 div.sk-label-container {text-align: center;}#sk-container-id-1 div.sk-container {/* jupyter's `normalize.less` sets `[hidden] { display: none; }` but bootstrap.min.css set `[hidden] { display: none !important; }` so we also need the `!important` here to be able to override the default hidden behavior on the sphinx rendered scikit-learn.org. See: https://github.com/scikit-learn/scikit-learn/issues/21755 */display: inline-block !important;position: relative;}#sk-container-id-1 div.sk-text-repr-fallback {display: none;}</style><div id=\"sk-container-id-1\" class=\"sk-top-container\"><div class=\"sk-text-repr-fallback\"><pre>GridSearchCV(cv=3, estimator=KNeighborsClassifier(), n_jobs=-1,\n",
              "             param_grid={&#x27;algorithm&#x27;: [&#x27;auto&#x27;, &#x27;ball_tree&#x27;, &#x27;kd_tree&#x27;, &#x27;brute&#x27;],\n",
              "                         &#x27;leaf_size&#x27;: [30, 40, 50],\n",
              "                         &#x27;metric&#x27;: [&#x27;euclidean&#x27;, &#x27;manhattan&#x27;, &#x27;minkowski&#x27;],\n",
              "                         &#x27;n_neighbors&#x27;: [3, 5, 7, 10], &#x27;p&#x27;: [1, 2],\n",
              "                         &#x27;weights&#x27;: [&#x27;uniform&#x27;, &#x27;distance&#x27;]},\n",
              "             verbose=2)</pre><b>In a Jupyter environment, please rerun this cell to show the HTML representation or trust the notebook. <br />On GitHub, the HTML representation is unable to render, please try loading this page with nbviewer.org.</b></div><div class=\"sk-container\" hidden><div class=\"sk-item sk-dashed-wrapped\"><div class=\"sk-label-container\"><div class=\"sk-label sk-toggleable\"><input class=\"sk-toggleable__control sk-hidden--visually\" id=\"sk-estimator-id-1\" type=\"checkbox\" ><label for=\"sk-estimator-id-1\" class=\"sk-toggleable__label sk-toggleable__label-arrow\">GridSearchCV</label><div class=\"sk-toggleable__content\"><pre>GridSearchCV(cv=3, estimator=KNeighborsClassifier(), n_jobs=-1,\n",
              "             param_grid={&#x27;algorithm&#x27;: [&#x27;auto&#x27;, &#x27;ball_tree&#x27;, &#x27;kd_tree&#x27;, &#x27;brute&#x27;],\n",
              "                         &#x27;leaf_size&#x27;: [30, 40, 50],\n",
              "                         &#x27;metric&#x27;: [&#x27;euclidean&#x27;, &#x27;manhattan&#x27;, &#x27;minkowski&#x27;],\n",
              "                         &#x27;n_neighbors&#x27;: [3, 5, 7, 10], &#x27;p&#x27;: [1, 2],\n",
              "                         &#x27;weights&#x27;: [&#x27;uniform&#x27;, &#x27;distance&#x27;]},\n",
              "             verbose=2)</pre></div></div></div><div class=\"sk-parallel\"><div class=\"sk-parallel-item\"><div class=\"sk-item\"><div class=\"sk-label-container\"><div class=\"sk-label sk-toggleable\"><input class=\"sk-toggleable__control sk-hidden--visually\" id=\"sk-estimator-id-2\" type=\"checkbox\" ><label for=\"sk-estimator-id-2\" class=\"sk-toggleable__label sk-toggleable__label-arrow\">estimator: KNeighborsClassifier</label><div class=\"sk-toggleable__content\"><pre>KNeighborsClassifier()</pre></div></div></div><div class=\"sk-serial\"><div class=\"sk-item\"><div class=\"sk-estimator sk-toggleable\"><input class=\"sk-toggleable__control sk-hidden--visually\" id=\"sk-estimator-id-3\" type=\"checkbox\" ><label for=\"sk-estimator-id-3\" class=\"sk-toggleable__label sk-toggleable__label-arrow\">KNeighborsClassifier</label><div class=\"sk-toggleable__content\"><pre>KNeighborsClassifier()</pre></div></div></div></div></div></div></div></div></div></div>"
            ],
            "text/plain": [
              "GridSearchCV(cv=3, estimator=KNeighborsClassifier(), n_jobs=-1,\n",
              "             param_grid={'algorithm': ['auto', 'ball_tree', 'kd_tree', 'brute'],\n",
              "                         'leaf_size': [30, 40, 50],\n",
              "                         'metric': ['euclidean', 'manhattan', 'minkowski'],\n",
              "                         'n_neighbors': [3, 5, 7, 10], 'p': [1, 2],\n",
              "                         'weights': ['uniform', 'distance']},\n",
              "             verbose=2)"
            ]
          },
          "execution_count": 25,
          "metadata": {},
          "output_type": "execute_result"
        }
      ],
      "source": [
        "# # 定义超参数搜索空间 / Define hyperparameter search space\n",
        "# knn_param_grid = {\n",
        "#     'n_neighbors': [3, 5, 7, 10], \n",
        "#     'weights': ['uniform', 'distance'], \n",
        "#     'algorithm': ['auto', 'ball_tree', 'kd_tree', 'brute'], \n",
        "#     'leaf_size': [30, 40, 50],  \n",
        "#     'p': [1, 2],\n",
        "#     'metric': ['euclidean', 'manhattan', 'minkowski'] \n",
        "# }\n",
        "\n",
        "# # 使用 GridSearchCV 进行超参数调优 / use gridsearch to tuning the hyperparameter   \n",
        "# knn_grid_search = GridSearchCV(KNeighborsClassifier(), knn_param_grid, cv=3, n_jobs=-1, verbose=2)\n",
        "# knn_grid_search.fit(X_train, Y_train)"
      ]
    },
    {
      "cell_type": "code",
      "execution_count": 33,
      "metadata": {},
      "outputs": [
        {
          "name": "stdout",
          "output_type": "stream",
          "text": [
            "0:\tlearn: 0.6149196\ttotal: 179ms\tremaining: 17.7s\n",
            "1:\tlearn: 0.5525773\ttotal: 202ms\tremaining: 9.88s\n",
            "2:\tlearn: 0.4997951\ttotal: 219ms\tremaining: 7.07s\n",
            "3:\tlearn: 0.4541066\ttotal: 235ms\tremaining: 5.65s\n",
            "4:\tlearn: 0.4158865\ttotal: 250ms\tremaining: 4.76s\n",
            "5:\tlearn: 0.3825441\ttotal: 267ms\tremaining: 4.18s\n",
            "6:\tlearn: 0.3540754\ttotal: 282ms\tremaining: 3.74s\n",
            "7:\tlearn: 0.3283944\ttotal: 294ms\tremaining: 3.38s\n",
            "8:\tlearn: 0.3071990\ttotal: 313ms\tremaining: 3.16s\n",
            "9:\tlearn: 0.2880267\ttotal: 329ms\tremaining: 2.96s\n",
            "10:\tlearn: 0.2711083\ttotal: 344ms\tremaining: 2.79s\n",
            "11:\tlearn: 0.2558394\ttotal: 357ms\tremaining: 2.62s\n",
            "12:\tlearn: 0.2431363\ttotal: 373ms\tremaining: 2.5s\n",
            "13:\tlearn: 0.2317804\ttotal: 389ms\tremaining: 2.39s\n",
            "14:\tlearn: 0.2205197\ttotal: 406ms\tremaining: 2.3s\n",
            "15:\tlearn: 0.2105996\ttotal: 426ms\tremaining: 2.23s\n",
            "16:\tlearn: 0.2025158\ttotal: 442ms\tremaining: 2.16s\n",
            "17:\tlearn: 0.1941065\ttotal: 463ms\tremaining: 2.11s\n",
            "18:\tlearn: 0.1872991\ttotal: 481ms\tremaining: 2.05s\n",
            "19:\tlearn: 0.1812648\ttotal: 497ms\tremaining: 1.99s\n",
            "20:\tlearn: 0.1756688\ttotal: 513ms\tremaining: 1.93s\n",
            "21:\tlearn: 0.1705098\ttotal: 529ms\tremaining: 1.88s\n",
            "22:\tlearn: 0.1658268\ttotal: 544ms\tremaining: 1.82s\n",
            "23:\tlearn: 0.1621866\ttotal: 559ms\tremaining: 1.77s\n",
            "24:\tlearn: 0.1582293\ttotal: 575ms\tremaining: 1.72s\n",
            "25:\tlearn: 0.1547723\ttotal: 591ms\tremaining: 1.68s\n",
            "26:\tlearn: 0.1515878\ttotal: 609ms\tremaining: 1.65s\n",
            "27:\tlearn: 0.1485484\ttotal: 630ms\tremaining: 1.62s\n",
            "28:\tlearn: 0.1456145\ttotal: 648ms\tremaining: 1.58s\n",
            "29:\tlearn: 0.1433689\ttotal: 666ms\tremaining: 1.55s\n",
            "30:\tlearn: 0.1411037\ttotal: 685ms\tremaining: 1.52s\n",
            "31:\tlearn: 0.1393534\ttotal: 702ms\tremaining: 1.49s\n",
            "32:\tlearn: 0.1373192\ttotal: 719ms\tremaining: 1.46s\n",
            "33:\tlearn: 0.1356076\ttotal: 734ms\tremaining: 1.42s\n",
            "34:\tlearn: 0.1341018\ttotal: 751ms\tremaining: 1.39s\n",
            "35:\tlearn: 0.1327394\ttotal: 768ms\tremaining: 1.37s\n",
            "36:\tlearn: 0.1315985\ttotal: 784ms\tremaining: 1.33s\n",
            "37:\tlearn: 0.1307165\ttotal: 801ms\tremaining: 1.31s\n",
            "38:\tlearn: 0.1297193\ttotal: 817ms\tremaining: 1.28s\n",
            "39:\tlearn: 0.1288278\ttotal: 833ms\tremaining: 1.25s\n",
            "40:\tlearn: 0.1279042\ttotal: 851ms\tremaining: 1.23s\n",
            "41:\tlearn: 0.1271607\ttotal: 869ms\tremaining: 1.2s\n",
            "42:\tlearn: 0.1261955\ttotal: 890ms\tremaining: 1.18s\n",
            "43:\tlearn: 0.1253192\ttotal: 908ms\tremaining: 1.16s\n",
            "44:\tlearn: 0.1246189\ttotal: 926ms\tremaining: 1.13s\n",
            "45:\tlearn: 0.1241499\ttotal: 942ms\tremaining: 1.1s\n",
            "46:\tlearn: 0.1235569\ttotal: 956ms\tremaining: 1.08s\n",
            "47:\tlearn: 0.1231106\ttotal: 971ms\tremaining: 1.05s\n",
            "48:\tlearn: 0.1223799\ttotal: 988ms\tremaining: 1.03s\n",
            "49:\tlearn: 0.1218159\ttotal: 1s\tremaining: 1s\n",
            "50:\tlearn: 0.1211738\ttotal: 1.02s\tremaining: 982ms\n",
            "51:\tlearn: 0.1208709\ttotal: 1.04s\tremaining: 960ms\n",
            "52:\tlearn: 0.1204808\ttotal: 1.06s\tremaining: 941ms\n",
            "53:\tlearn: 0.1202313\ttotal: 1.08s\tremaining: 919ms\n",
            "54:\tlearn: 0.1197838\ttotal: 1.09s\tremaining: 896ms\n",
            "55:\tlearn: 0.1193033\ttotal: 1.11s\tremaining: 873ms\n",
            "56:\tlearn: 0.1189697\ttotal: 1.13s\tremaining: 850ms\n",
            "57:\tlearn: 0.1185588\ttotal: 1.14s\tremaining: 828ms\n",
            "58:\tlearn: 0.1182647\ttotal: 1.16s\tremaining: 806ms\n",
            "59:\tlearn: 0.1180627\ttotal: 1.18s\tremaining: 784ms\n",
            "60:\tlearn: 0.1177463\ttotal: 1.19s\tremaining: 763ms\n",
            "61:\tlearn: 0.1172260\ttotal: 1.21s\tremaining: 741ms\n",
            "62:\tlearn: 0.1171077\ttotal: 1.23s\tremaining: 721ms\n",
            "63:\tlearn: 0.1169236\ttotal: 1.24s\tremaining: 699ms\n",
            "64:\tlearn: 0.1165088\ttotal: 1.26s\tremaining: 679ms\n",
            "65:\tlearn: 0.1163100\ttotal: 1.28s\tremaining: 659ms\n",
            "66:\tlearn: 0.1161491\ttotal: 1.29s\tremaining: 638ms\n",
            "67:\tlearn: 0.1159995\ttotal: 1.31s\tremaining: 617ms\n",
            "68:\tlearn: 0.1158699\ttotal: 1.33s\tremaining: 598ms\n",
            "69:\tlearn: 0.1156298\ttotal: 1.35s\tremaining: 579ms\n",
            "70:\tlearn: 0.1154896\ttotal: 1.37s\tremaining: 559ms\n",
            "71:\tlearn: 0.1154188\ttotal: 1.38s\tremaining: 538ms\n",
            "72:\tlearn: 0.1153166\ttotal: 1.4s\tremaining: 518ms\n",
            "73:\tlearn: 0.1152437\ttotal: 1.42s\tremaining: 498ms\n",
            "74:\tlearn: 0.1150670\ttotal: 1.43s\tremaining: 478ms\n",
            "75:\tlearn: 0.1149550\ttotal: 1.45s\tremaining: 458ms\n",
            "76:\tlearn: 0.1148346\ttotal: 1.47s\tremaining: 439ms\n",
            "77:\tlearn: 0.1147727\ttotal: 1.49s\tremaining: 419ms\n",
            "78:\tlearn: 0.1146015\ttotal: 1.5s\tremaining: 399ms\n",
            "79:\tlearn: 0.1145256\ttotal: 1.52s\tremaining: 379ms\n",
            "80:\tlearn: 0.1144240\ttotal: 1.53s\tremaining: 359ms\n",
            "81:\tlearn: 0.1143749\ttotal: 1.55s\tremaining: 340ms\n",
            "82:\tlearn: 0.1142247\ttotal: 1.56s\tremaining: 321ms\n",
            "83:\tlearn: 0.1141378\ttotal: 1.58s\tremaining: 301ms\n",
            "84:\tlearn: 0.1140475\ttotal: 1.6s\tremaining: 282ms\n",
            "85:\tlearn: 0.1140008\ttotal: 1.61s\tremaining: 263ms\n",
            "86:\tlearn: 0.1139251\ttotal: 1.63s\tremaining: 244ms\n",
            "87:\tlearn: 0.1138001\ttotal: 1.65s\tremaining: 225ms\n",
            "88:\tlearn: 0.1137297\ttotal: 1.67s\tremaining: 206ms\n",
            "89:\tlearn: 0.1136444\ttotal: 1.68s\tremaining: 187ms\n",
            "90:\tlearn: 0.1135740\ttotal: 1.7s\tremaining: 168ms\n",
            "91:\tlearn: 0.1135292\ttotal: 1.72s\tremaining: 150ms\n",
            "92:\tlearn: 0.1134565\ttotal: 1.74s\tremaining: 131ms\n",
            "93:\tlearn: 0.1134094\ttotal: 1.75s\tremaining: 112ms\n",
            "94:\tlearn: 0.1133405\ttotal: 1.77s\tremaining: 93.2ms\n",
            "95:\tlearn: 0.1132702\ttotal: 1.79s\tremaining: 74.5ms\n",
            "96:\tlearn: 0.1132416\ttotal: 1.81s\tremaining: 55.9ms\n",
            "97:\tlearn: 0.1130361\ttotal: 1.82s\tremaining: 37.2ms\n",
            "98:\tlearn: 0.1129676\ttotal: 1.84s\tremaining: 18.6ms\n",
            "99:\tlearn: 0.1129218\ttotal: 1.86s\tremaining: 0us\n"
          ]
        },
        {
          "data": {
            "text/plain": [
              "<catboost.core.CatBoostClassifier at 0x1ac905e0050>"
            ]
          },
          "execution_count": 33,
          "metadata": {},
          "output_type": "execute_result"
        }
      ],
      "source": [
        "#PassiveAggressiveClassifier 需不需要使用这个用这个的话这是基模型还是其他的 / Do you need to use this? If so, is this the base model or something else\n",
        "pa_classifier = PassiveAggressiveClassifier(C=1.0, random_state=42)\n",
        "pa_classifier.fit(X_train, Y_train)\n",
        "\n",
        "#CatBoostClassifier\n",
        "catboost_model = CatBoostClassifier(iterations=100,  # Number of boosting iterations (adjust as needed)\n",
        "                                    learning_rate=0.1,  # Learning rate (adjust as needed)\n",
        "                                    depth=6,  # Depth of the trees (adjust as needed)\n",
        "                                    random_state=42)  # Random seed for reproducibility\n",
        "\n",
        "catboost_model.fit(X_train, Y_train)"
      ]
    },
    {
      "cell_type": "code",
      "execution_count": 34,
      "metadata": {},
      "outputs": [
        {
          "name": "stdout",
          "output_type": "stream",
          "text": [
            "Fitting 3 folds for each of 24 candidates, totalling 72 fits\n"
          ]
        },
        {
          "name": "stderr",
          "output_type": "stream",
          "text": [
            "d:\\Anconda3\\Lib\\site-packages\\sklearn\\linear_model\\_stochastic_gradient.py:713: ConvergenceWarning: Maximum number of iteration reached before convergence. Consider increasing max_iter to improve the fit.\n",
            "  warnings.warn(\n"
          ]
        },
        {
          "name": "stdout",
          "output_type": "stream",
          "text": [
            "Best Parameters for PassiveAggressiveClassifier: {'C': 0.1, 'max_iter': 50, 'tol': 0.0001}\n",
            "Fitting 3 folds for each of 54 candidates, totalling 162 fits\n",
            "Best Parameters for CatBoostClassifier: {'depth': 6, 'iterations': 100, 'l2_leaf_reg': 3, 'learning_rate': 0.1}\n"
          ]
        },
        {
          "data": {
            "text/plain": [
              "['best_catboost_model.pkl']"
            ]
          },
          "execution_count": 34,
          "metadata": {},
          "output_type": "execute_result"
        }
      ],
      "source": [
        "import joblib\n",
        "from sklearn.model_selection import GridSearchCV\n",
        "from sklearn.linear_model import PassiveAggressiveClassifier\n",
        "from catboost import CatBoostClassifier\n",
        "\n",
        "# 1. PassiveAggressiveClassifier Hyperparameter Tuning\n",
        "pa_param_grid = {\n",
        "    'C': [0.1, 0.5, 1.0, 5.0],  # Regularization parameter\n",
        "    'max_iter': [50, 100, 200],  # Maximum number of iterations\n",
        "    'tol': [1e-4, 1e-3],  # Tolerance for stopping criteria\n",
        "}\n",
        "\n",
        "pa_grid_search = GridSearchCV(PassiveAggressiveClassifier(random_state=42), \n",
        "                              pa_param_grid, \n",
        "                              cv=3,  # 3-fold cross-validation\n",
        "                              n_jobs=-1,  # Use all available CPUs\n",
        "                              verbose=2)\n",
        "\n",
        "pa_grid_search.fit(X_train, Y_train)\n",
        "\n",
        "# Print the best parameters for PassiveAggressiveClassifier\n",
        "print(\"Best Parameters for PassiveAggressiveClassifier:\", pa_grid_search.best_params_)\n",
        "\n",
        "# Save the best model (PassiveAggressiveClassifier)\n",
        "best_pa_model = pa_grid_search.best_estimator_\n",
        "joblib.dump(best_pa_model, 'best_pa_model.pkl')  # Save to file\n",
        "\n",
        "# 2. CatBoostClassifier Hyperparameter Tuning\n",
        "catboost_param_grid = {\n",
        "    'iterations': [100, 200],  # Number of boosting iterations\n",
        "    'learning_rate': [0.01, 0.1, 0.2],  # Learning rate\n",
        "    'depth': [4, 6, 8],  # Depth of the trees\n",
        "    'l2_leaf_reg': [1, 3, 5],  # L2 regularization term\n",
        "}\n",
        "\n",
        "catboost_grid_search = GridSearchCV(CatBoostClassifier(random_state=42, verbose=0), \n",
        "                                    catboost_param_grid, \n",
        "                                    cv=3,  # 3-fold cross-validation\n",
        "                                    n_jobs=-1,  # Use all available CPUs\n",
        "                                    verbose=2)\n",
        "\n",
        "catboost_grid_search.fit(X_train, Y_train)\n",
        "\n",
        "# Print the best parameters for CatBoostClassifier\n",
        "print(\"Best Parameters for CatBoostClassifier:\", catboost_grid_search.best_params_)\n",
        "\n",
        "# Save the best model (CatBoostClassifier)\n",
        "best_catboost_model = catboost_grid_search.best_estimator_\n",
        "joblib.dump(best_catboost_model, 'best_catboost_model.pkl')  # Save to file\n",
        "\n"
      ]
    },
    {
      "cell_type": "markdown",
      "metadata": {},
      "source": [
        "# 保存最佳超参数模型"
      ]
    },
    {
      "cell_type": "code",
      "execution_count": null,
      "metadata": {},
      "outputs": [
        {
          "name": "stdout",
          "output_type": "stream",
          "text": [
            "Best models saved successfully.\n"
          ]
        }
      ],
      "source": [
        "import joblib\n",
        "\n",
        "# 保存最佳模型 save best model - Random Forest\n",
        "best_rf = rf_grid_search.best_estimator_\n",
        "joblib.dump(best_rf, 'best_random_forest_model.pkl')\n",
        "\n",
        "# 保存最佳模型 / save best model  - AdaBoost\n",
        "best_ab = ab_grid_search.best_estimator_\n",
        "joblib.dump(best_ab, 'best_adaboost_model.pkl')\n",
        "\n",
        "# 保存最佳模型 / save best model  - Gradient Boosting\n",
        "best_gb = gb_grid_search.best_estimator_\n",
        "joblib.dump(best_gb, 'best_gradient_boosting_model.pkl')\n",
        "\n",
        "# 保存最佳模型 / save best model - Bagging\n",
        "best_bagging = bagging_grid_search.best_estimator_\n",
        "joblib.dump(best_bagging, 'best_bagging_model.pkl')\n",
        "\n",
        "# 保存最佳模型 / save best model - Extra Trees\n",
        "best_extra_trees = extra_trees_grid_search.best_estimator_\n",
        "joblib.dump(best_extra_trees, 'best_extra_trees_model.pkl')\n",
        "\n",
        "# 保存最佳模型 / save best model- XGBoost\n",
        "best_xgboost = xgboost_grid_search.best_estimator_\n",
        "joblib.dump(best_xgboost, 'best_xgboost_model.pkl')\n",
        "\n",
        "# 保存最佳模型 save best model - Neural Network (MLP)\n",
        "best_nn = nn_grid_search.best_estimator_\n",
        "joblib.dump(best_nn, 'best_nn_model.pkl')\n",
        "\n",
        "# 保存最佳模型 save best model - KNN\n",
        "best_knn = knn_grid_search.best_estimator_\n",
        "joblib.dump(best_knn,'best_knn_model.pkl')\n",
        "\n",
        "# Save the best model (PassiveAggressiveClassifier)\n",
        "best_pa_model = pa_grid_search.best_estimator_\n",
        "joblib.dump(best_pa_model, 'best_pa_model.pkl')  # Save to file\n",
        "\n",
        "# Save the best model (CatBoostClassifier)\n",
        "best_catboost_model = catboost_grid_search.best_estimator_\n",
        "joblib.dump(best_catboost_model, 'best_catboost_model.pkl')  # Save to file\n",
        "\n",
        "print(\"Best models saved successfully.\")\n"
      ]
    },
    {
      "cell_type": "markdown",
      "metadata": {
        "id": "FKNJDFSoaXK2"
      },
      "source": [
        "# Model Testing / 模型测试"
      ]
    },
    {
      "cell_type": "code",
      "execution_count": null,
      "metadata": {},
      "outputs": [
        {
          "name": "stdout",
          "output_type": "stream",
          "text": [
            "Accuracy for Random Forest with best parameters: 0.9499441823616263\n",
            "Accuracy for AdaBoost with best parameters: 0.9528971154884943\n",
            "Accuracy for Gradient Boosting with best parameters: 0.9530411610068782\n",
            "Accuracy for Bagging with best parameters: 0.9510605351291008\n",
            "Accuracy for Extra Trees with best parameters: 0.9473513630307177\n",
            "Accuracy for XGBoost with best parameters: 0.9530051496272822\n",
            "Accuracy for Neural Network with best parameters: 0.9489718751125356\n",
            "Accuracy for KNN with best parameters: 0.9311822535921351\n"
          ]
        }
      ],
      "source": [
        "# Random Forest\n",
        "best_rf = rf_grid_search.best_estimator_\n",
        "rf_accuracy = best_rf.score(X_test, Y_test)\n",
        "print(\"Accuracy for Random Forest with best parameters:\", rf_accuracy)\n",
        "\n",
        "# AdaBoost\n",
        "best_ab = ab_grid_search.best_estimator_\n",
        "ab_accuracy = best_ab.score(X_test, Y_test)\n",
        "print(\"Accuracy for AdaBoost with best parameters:\", ab_accuracy)\n",
        "\n",
        "# Gradient Boosting\n",
        "best_gb = gb_grid_search.best_estimator_\n",
        "gb_accuracy = best_gb.score(X_test, Y_test)\n",
        "print(\"Accuracy for Gradient Boosting with best parameters:\", gb_accuracy)\n",
        "\n",
        "# Bagging\n",
        "best_bagging = bagging_grid_search.best_estimator_\n",
        "bagging_accuracy = best_bagging.score(X_test, Y_test)\n",
        "print(\"Accuracy for Bagging with best parameters:\", bagging_accuracy)\n",
        "\n",
        "# Extra Trees\n",
        "best_extra_trees = extra_trees_grid_search.best_estimator_\n",
        "extra_trees_accuracy = best_extra_trees.score(X_test, Y_test)\n",
        "print(\"Accuracy for Extra Trees with best parameters:\", extra_trees_accuracy)\n",
        "\n",
        "# XGBoost\n",
        "best_xgboost = xgboost_grid_search.best_estimator_\n",
        "xgboost_accuracy = best_xgboost.score(X_test, Y_test)\n",
        "print(\"Accuracy for XGBoost with best parameters:\", xgboost_accuracy)\n",
        "\n",
        "# Neural Network (MLP)\n",
        "best_nn = nn_grid_search.best_estimator_\n",
        "nn_accuracy = best_nn.score(X_test, Y_test)\n",
        "print(\"Accuracy for Neural Network with best parameters:\", nn_accuracy)\n",
        "\n",
        "# KNN\n",
        "best_knn = knn_grid_search.best_estimator_\n",
        "knn_accuracy = best_knn.score(X_test, Y_test)\n",
        "print(\"Accuracy for KNN with best parameters:\", knn_accuracy)\n",
        "\n"
      ]
    },
    {
      "cell_type": "code",
      "execution_count": 35,
      "metadata": {},
      "outputs": [
        {
          "name": "stdout",
          "output_type": "stream",
          "text": [
            "Test Set Accuracy for Best PassiveAggressiveClassifier Model: 0.9179300659008247\n",
            "Test Set Accuracy for Best CatBoostClassifier Model: 0.9536533544600093\n"
          ]
        }
      ],
      "source": [
        "import joblib\n",
        "from sklearn.metrics import accuracy_score\n",
        "\n",
        "# 1. Load the best PassiveAggressiveClassifier model\n",
        "best_pa_model = joblib.load('best_pa_model.pkl')\n",
        "\n",
        "# Make predictions on the test set for PassiveAggressiveClassifier\n",
        "pa_predictions = best_pa_model.predict(X_test)\n",
        "\n",
        "# Calculate accuracy for PassiveAggressiveClassifier\n",
        "pa_accuracy = accuracy_score(Y_test, pa_predictions)\n",
        "print(f\"Test Set Accuracy for Best PassiveAggressiveClassifier Model: {pa_accuracy}\")\n",
        "\n",
        "# 2. Load the best CatBoostClassifier model\n",
        "best_catboost_model = joblib.load('best_catboost_model.pkl')\n",
        "\n",
        "# Make predictions on the test set for CatBoostClassifier\n",
        "catboost_predictions = best_catboost_model.predict(X_test)\n",
        "\n",
        "# Calculate accuracy for CatBoostClassifier\n",
        "catboost_accuracy = accuracy_score(Y_test, catboost_predictions)\n",
        "print(f\"Test Set Accuracy for Best CatBoostClassifier Model: {catboost_accuracy}\")\n"
      ]
    },
    {
      "cell_type": "markdown",
      "metadata": {},
      "source": [
        "# 组合为Hybrid模型"
      ]
    },
    {
      "cell_type": "markdown",
      "metadata": {},
      "source": [
        "### 1. 使用stack方法将Gradient Boosting, XGBoost, Catboost 组合为hybrid模型 "
      ]
    },
    {
      "cell_type": "code",
      "execution_count": null,
      "metadata": {},
      "outputs": [
        {
          "name": "stdout",
          "output_type": "stream",
          "text": [
            "Test Set Accuracy for Stacking Model: 0.952392956174151\n"
          ]
        },
        {
          "name": "stderr",
          "output_type": "stream",
          "text": [
            "d:\\Anconda3\\Lib\\site-packages\\sklearn\\linear_model\\_logistic.py:460: ConvergenceWarning: lbfgs failed to converge (status=1):\n",
            "STOP: TOTAL NO. of ITERATIONS REACHED LIMIT.\n",
            "\n",
            "Increase the number of iterations (max_iter) or scale the data as shown in:\n",
            "    https://scikit-learn.org/stable/modules/preprocessing.html\n",
            "Please also refer to the documentation for alternative solver options:\n",
            "    https://scikit-learn.org/stable/modules/linear_model.html#logistic-regression\n",
            "  n_iter_i = _check_optimize_result(\n"
          ]
        }
      ],
      "source": [
        "from sklearn.ensemble import StackingClassifier\n",
        "from sklearn.linear_model import LogisticRegression  # 作为元学习器\n",
        "from sklearn.metrics import accuracy_score\n",
        "import joblib\n",
        "\n",
        "# 加载模型\n",
        "best_gb_model = joblib.load('best_gradient_boosting_model.pkl')  # Gradient Boosting\n",
        "best_xgboost_model = joblib.load('best_xgboost_model.pkl')  # XGBoost\n",
        "best_catboost_model = joblib.load('best_catboost_model.pkl')  # CatBoost\n",
        "\n",
        "# 定义基学习器\n",
        "base_learners = [\n",
        "    ('gb', best_gb_model), \n",
        "    ('xgb', best_xgboost_model), \n",
        "    ('cat', best_catboost_model)\n",
        "]\n",
        "\n",
        "# 使用逻辑回归作为元学习器\n",
        "meta_learner = LogisticRegression()\n",
        "\n",
        "# 构建 StackingClassifier\n",
        "stacking_model3 = StackingClassifier(\n",
        "    estimators=base_learners, \n",
        "    final_estimator=meta_learner, \n",
        "    passthrough=True  # 让元学习器直接访问原始特征\n",
        ")\n",
        "\n",
        "# 训练 Stacking 模型\n",
        "stacking_model3.fit(X_train, Y_train)\n"
      ]
    },
    {
      "cell_type": "markdown",
      "metadata": {},
      "source": [
        "### 2.使用voting方法将Gradient Boosting, XGBoost, Catboost 组合为hybrid模型 "
      ]
    },
    {
      "cell_type": "code",
      "execution_count": null,
      "metadata": {},
      "outputs": [
        {
          "name": "stdout",
          "output_type": "stream",
          "text": [
            "Test Set Accuracy for Voting Model: 0.953149195145666\n"
          ]
        }
      ],
      "source": [
        "\n",
        "# 加载模型\n",
        "best_gb_model = joblib.load('best_gradient_boosting_model.pkl')  # Gradient Boosting\n",
        "best_xgboost_model = joblib.load('best_xgboost_model.pkl')  # XGBoost\n",
        "best_catboost_model = joblib.load('best_catboost_model.pkl')  # CatBoost\n",
        "\n",
        "# 定义基学习器\n",
        "base_learners = [\n",
        "    ('gb', best_gb_model), \n",
        "    ('xgb', best_xgboost_model), \n",
        "    ('cat', best_catboost_model)\n",
        "]\n",
        "\n",
        "# 使用 VotingClassifier 进行投票融合\n",
        "voting_model3 = VotingClassifier(\n",
        "    estimators=base_learners, \n",
        "    voting='soft'  # 软投票，可以改为 'hard' 使用硬投票\n",
        ")\n",
        "\n",
        "# 训练 Voting 模型\n",
        "voting_model3.fit(X_train, Y_train)"
      ]
    },
    {
      "cell_type": "markdown",
      "metadata": {},
      "source": [
        "### 3. 使用stack方法将Gradient Boosting, XGBoost, Catboost 和Adaboost 组合为hybrid模型 "
      ]
    },
    {
      "cell_type": "code",
      "execution_count": null,
      "metadata": {},
      "outputs": [
        {
          "name": "stderr",
          "output_type": "stream",
          "text": [
            "d:\\Anconda3\\Lib\\site-packages\\sklearn\\linear_model\\_logistic.py:460: ConvergenceWarning: lbfgs failed to converge (status=1):\n",
            "STOP: TOTAL NO. of ITERATIONS REACHED LIMIT.\n",
            "\n",
            "Increase the number of iterations (max_iter) or scale the data as shown in:\n",
            "    https://scikit-learn.org/stable/modules/preprocessing.html\n",
            "Please also refer to the documentation for alternative solver options:\n",
            "    https://scikit-learn.org/stable/modules/linear_model.html#logistic-regression\n",
            "  n_iter_i = _check_optimize_result(\n"
          ]
        },
        {
          "name": "stdout",
          "output_type": "stream",
          "text": [
            "Test Set Accuracy for Stacking Model: 0.9525730130721308\n"
          ]
        }
      ],
      "source": [
        "\n",
        "# 加载模型\n",
        "best_gb_model = joblib.load('best_gradient_boosting_model.pkl')  # Gradient Boosting\n",
        "best_xgboost_model = joblib.load('best_xgboost_model.pkl')  # XGBoost\n",
        "best_catboost_model = joblib.load('best_catboost_model.pkl')  # CatBoost\n",
        "best_adaboost_model = joblib.load('best_adaboost_model.pkl')  # AdaBoost\n",
        "\n",
        "# 定义基学习器\n",
        "base_learners = [\n",
        "    ('gb', best_gb_model),\n",
        "    ('xgb', best_xgboost_model),\n",
        "    ('cat', best_catboost_model),\n",
        "    ('ab', best_adaboost_model)\n",
        "]\n",
        "\n",
        "# 选择逻辑回归作为元学习器\n",
        "meta_learner = LogisticRegression()\n",
        "\n",
        "# 构建 StackingClassifier\n",
        "stacking_model4 = StackingClassifier(\n",
        "    estimators=base_learners, \n",
        "    final_estimator=meta_learner, \n",
        "    passthrough=True  # 让元学习器直接访问原始特征\n",
        ")\n",
        "\n",
        "# 训练 Stacking 模型\n",
        "stacking_model4.fit(X_train, Y_train)"
      ]
    },
    {
      "cell_type": "markdown",
      "metadata": {},
      "source": [
        "### 4.使用voting方法将Gradient Boosting, XGBoost, Catboost 和Adaboost 组合为hybrid模型 "
      ]
    },
    {
      "cell_type": "code",
      "execution_count": null,
      "metadata": {},
      "outputs": [
        {
          "name": "stdout",
          "output_type": "stream",
          "text": [
            "Test Set Accuracy for Voting Model: 0.953149195145666\n"
          ]
        }
      ],
      "source": [
        "# 加载模型\n",
        "best_gb_model = joblib.load('best_gradient_boosting_model.pkl')  # Gradient Boosting\n",
        "best_xgboost_model = joblib.load('best_xgboost_model.pkl')  # XGBoost\n",
        "best_catboost_model = joblib.load('best_catboost_model.pkl')  # CatBoost\n",
        "best_adaboost_model = joblib.load('best_adaboost_model.pkl')  # AdaBoost\n",
        "\n",
        "# 定义基学习器\n",
        "base_learners = [\n",
        "    ('gb', best_gb_model), \n",
        "    ('xgb', best_xgboost_model), \n",
        "    ('cat', best_catboost_model), \n",
        "    ('ab', best_adaboost_model)\n",
        "]\n",
        "\n",
        "# 使用 VotingClassifier 进行投票融合\n",
        "voting_model4 = VotingClassifier(\n",
        "    estimators=base_learners, \n",
        "    voting='soft'  # 软投票，可以改为 'hard' 使用硬投票\n",
        ")\n",
        "\n",
        "# 训练 Voting 模型\n",
        "voting_model4.fit(X_train, Y_train)"
      ]
    },
    {
      "cell_type": "markdown",
      "metadata": {},
      "source": [
        "### 5. 使用stack的方法将Gradient Boosting, XGBoost, Catboost, Adaboost 和Bagging 组合为hybrid模型 "
      ]
    },
    {
      "cell_type": "code",
      "execution_count": null,
      "metadata": {},
      "outputs": [
        {
          "name": "stderr",
          "output_type": "stream",
          "text": [
            "d:\\Anconda3\\Lib\\site-packages\\sklearn\\linear_model\\_logistic.py:460: ConvergenceWarning: lbfgs failed to converge (status=1):\n",
            "STOP: TOTAL NO. of ITERATIONS REACHED LIMIT.\n",
            "\n",
            "Increase the number of iterations (max_iter) or scale the data as shown in:\n",
            "    https://scikit-learn.org/stable/modules/preprocessing.html\n",
            "Please also refer to the documentation for alternative solver options:\n",
            "    https://scikit-learn.org/stable/modules/linear_model.html#logistic-regression\n",
            "  n_iter_i = _check_optimize_result(\n"
          ]
        },
        {
          "name": "stdout",
          "output_type": "stream",
          "text": [
            "Test Set Accuracy for Stacking Model: 0.9527170585905146\n"
          ]
        }
      ],
      "source": [
        "\n",
        "# 加载模型\n",
        "best_gb_model = joblib.load('best_gradient_boosting_model.pkl')  # Gradient Boosting\n",
        "best_xgboost_model = joblib.load('best_xgboost_model.pkl')  # XGBoost\n",
        "best_catboost_model = joblib.load('best_catboost_model.pkl')  # CatBoost\n",
        "best_adaboost_model = joblib.load('best_adaboost_model.pkl')  # AdaBoost\n",
        "best_bagging_model = joblib.load('best_bagging_model.pkl')\n",
        "\n",
        "# 定义基学习器\n",
        "base_learners = [\n",
        "    ('gb', best_gb_model),\n",
        "    ('xgb', best_xgboost_model),\n",
        "    ('cat', best_catboost_model),\n",
        "    ('ab', best_adaboost_model),\n",
        "    ('bag', best_bagging_model)\n",
        "]\n",
        "\n",
        "# 选择逻辑回归作为元学习器\n",
        "meta_learner = LogisticRegression()\n",
        "\n",
        "# 构建 StackingClassifier\n",
        "stacking_model5 = StackingClassifier(\n",
        "    estimators=base_learners, \n",
        "    final_estimator=meta_learner, \n",
        "    passthrough=True  # 让元学习器直接访问原始特征\n",
        ")\n",
        "\n",
        "# 训练 Stacking 模型\n",
        "stacking_model5.fit(X_train, Y_train)"
      ]
    },
    {
      "cell_type": "markdown",
      "metadata": {},
      "source": [
        "### 6. 使用voting的方法将Gradient Boosting, XGBoost, Catboost, Adaboost 和Bagging 组合为hybrid模型 "
      ]
    },
    {
      "cell_type": "code",
      "execution_count": null,
      "metadata": {},
      "outputs": [
        {
          "name": "stdout",
          "output_type": "stream",
          "text": [
            "Test Set Accuracy for Voting Model: 0.9528611041088985\n"
          ]
        }
      ],
      "source": [
        "import joblib\n",
        "from sklearn.ensemble import VotingClassifier\n",
        "from sklearn.metrics import accuracy_score\n",
        "\n",
        "# 加载模型\n",
        "best_gb_model = joblib.load('best_gradient_boosting_model.pkl')  # Gradient Boosting\n",
        "best_xgboost_model = joblib.load('best_xgboost_model.pkl')  # XGBoost\n",
        "best_catboost_model = joblib.load('best_catboost_model.pkl')  # CatBoost\n",
        "best_adaboost_model = joblib.load('best_adaboost_model.pkl')  # AdaBoost\n",
        "best_bagging_model = joblib.load('best_bagging_model.pkl')  # Bagging\n",
        "\n",
        "# 定义基学习器\n",
        "base_learners = [\n",
        "    ('gb', best_gb_model),\n",
        "    ('xgb', best_xgboost_model),\n",
        "    ('cat', best_catboost_model),\n",
        "    ('ab', best_adaboost_model),\n",
        "    ('bag', best_bagging_model)\n",
        "]\n",
        "\n",
        "# 使用 VotingClassifier 进行投票融合\n",
        "voting_model5 = VotingClassifier(\n",
        "    estimators=base_learners, \n",
        "    voting='soft'  # 软投票，可以改为 'hard' 使用硬投票\n",
        ")\n",
        "\n",
        "# 训练 Voting 模型\n",
        "voting_model5.fit(X_train, Y_train)\n"
      ]
    },
    {
      "cell_type": "markdown",
      "metadata": {},
      "source": [
        "## 保存所有混合模型"
      ]
    },
    {
      "cell_type": "code",
      "execution_count": 61,
      "metadata": {},
      "outputs": [
        {
          "name": "stdout",
          "output_type": "stream",
          "text": [
            "Voting model saved successfully!\n"
          ]
        }
      ],
      "source": [
        "import joblib\n",
        "\n",
        "# 保存 VotingClassifier 模型\n",
        "joblib.dump(stacking_model3,'best_stacking_model3.pkl')\n",
        "joblib.dump(voting_model3, 'best_voting_model3.pkl')\n",
        "joblib.dump(stacking_model4,'best_stacking_model4.pkl')\n",
        "joblib.dump(voting_model4, 'best_voting_model4.pkl')\n",
        "joblib.dump(stacking_model5,'best_stacking_model5.pkl')\n",
        "joblib.dump(voting_model5, 'best_voting_model5.pkl')\n",
        "\n",
        "print(\"Voting model saved successfully!\")\n"
      ]
    },
    {
      "cell_type": "markdown",
      "metadata": {},
      "source": [
        "## 使用已加载模型进行预测"
      ]
    },
    {
      "cell_type": "code",
      "execution_count": 62,
      "metadata": {},
      "outputs": [
        {
          "name": "stdout",
          "output_type": "stream",
          "text": [
            "Test Set Accuracy for Loaded Voting Model3: 0.953149195145666\n",
            "Test Set Accuracy for Loaded Voting Model4: 0.953149195145666\n",
            "Test Set Accuracy for Loaded Voting Model5: 0.9528611041088985\n",
            "Test Set Accuracy for Loaded stacking Model3: 0.952392956174151\n",
            "Test Set Accuracy for Loaded stacking Model4: 0.9525730130721308\n",
            "Test Set Accuracy for Loaded stacking Model5: 0.9527170585905146\n"
          ]
        }
      ],
      "source": [
        "# 加载已保存的 VotingClassifier 模型\n",
        "loaded_voting_model3 = joblib.load('best_voting_model3.pkl')\n",
        "loaded_voting_model4 = joblib.load('best_voting_model4.pkl')\n",
        "loaded_voting_model5 = joblib.load('best_voting_model5.pkl')\n",
        "loaded_stacking_model3 = joblib.load('best_stacking_model3.pkl')\n",
        "loaded_stacking_model4 = joblib.load('best_stacking_model4.pkl')\n",
        "loaded_stacking_model5 = joblib.load('best_stacking_model5.pkl')\n",
        "# 使用加载的模型进行预测\n",
        "loaded_voting_predictions3 = loaded_voting_model3.predict(X_test)\n",
        "loaded_voting_predictions4 = loaded_voting_model4.predict(X_test)\n",
        "loaded_voting_predictions5 = loaded_voting_model5.predict(X_test)\n",
        "loaded_stacking_predictions3 = loaded_stacking_model3.predict(X_test)\n",
        "loaded_stacking_predictions4 = loaded_stacking_model4.predict(X_test)\n",
        "loaded_stacking_predictions5 = loaded_stacking_model5.predict(X_test)\n",
        "# 计算准确率\n",
        "loaded_voting_accuracy3 = accuracy_score(Y_test, loaded_voting_predictions3)\n",
        "loaded_voting_accuracy4 = accuracy_score(Y_test, loaded_voting_predictions4)\n",
        "loaded_voting_accuracy5 = accuracy_score(Y_test, loaded_voting_predictions5)\n",
        "loaded_stacking_accuracy3 = accuracy_score(Y_test, loaded_stacking_predictions3)\n",
        "loaded_stacking_accuracy4 = accuracy_score(Y_test, loaded_stacking_predictions4)\n",
        "loaded_stacking_accuracy5 = accuracy_score(Y_test, loaded_stacking_predictions5)\n",
        "\n",
        "# 打印出正确率\n",
        "print(f\"Test Set Accuracy for Loaded Voting Model3: {loaded_voting_accuracy3}\")\n",
        "print(f\"Test Set Accuracy for Loaded Voting Model4: {loaded_voting_accuracy4}\")\n",
        "print(f\"Test Set Accuracy for Loaded Voting Model5: {loaded_voting_accuracy5}\")\n",
        "print(f\"Test Set Accuracy for Loaded stacking Model3: {loaded_stacking_accuracy3}\")\n",
        "print(f\"Test Set Accuracy for Loaded stacking Model4: {loaded_stacking_accuracy4}\")\n",
        "print(f\"Test Set Accuracy for Loaded stacking Model5: {loaded_stacking_accuracy5}\")\n",
        "\n"
      ]
    },
    {
      "cell_type": "markdown",
      "metadata": {},
      "source": [
        "## 可视化模型"
      ]
    },
    {
      "cell_type": "code",
      "execution_count": 73,
      "metadata": {},
      "outputs": [
        {
          "data": {
            "image/png": "[encoded data removed]",
            "text/plain": [
              "<Figure size 1000x600 with 1 Axes>"
            ]
          },
          "metadata": {},
          "output_type": "display_data"
        }
      ],
      "source": [
        "import matplotlib.pyplot as plt\n",
        "\n",
        "# Accuracy values for the models\n",
        "accuracies = [\n",
        "    ('Voting Model 3', loaded_voting_accuracy3),\n",
        "    ('Stacking Model 3', loaded_stacking_accuracy3),\n",
        "    ('Voting Model 4', loaded_voting_accuracy4),\n",
        "    ('Stacking Model 4', loaded_stacking_accuracy4),\n",
        "    ('Voting Model 5', loaded_voting_accuracy5),\n",
        "    ('Stacking Model 5', loaded_stacking_accuracy5)\n",
        "]\n",
        "\n",
        "# Extract model names and their corresponding accuracies\n",
        "models = [model[0] for model in accuracies]\n",
        "scores = [model[1] for model in accuracies]\n",
        "\n",
        "# Plotting the bar chart\n",
        "plt.figure(figsize=(10, 6))\n",
        "plt.bar(models, scores, color=['blue', 'green', 'red', 'purple', 'orange', 'cyan'])\n",
        "plt.xlabel('Models')\n",
        "plt.ylabel('Accuracy')\n",
        "plt.title('Test Set Accuracy for Loaded Voting and Stacking Models')\n",
        "plt.xticks(rotation=45, ha='right')\n",
        "plt.ylim([0.9522, 0.9535])  # Accuracy is between 0 and 1\n",
        "plt.tight_layout()\n",
        "\n",
        "# Display the plot\n",
        "plt.show()\n"
      ]
    },
    {
      "cell_type": "code",
      "execution_count": null,
      "metadata": {},
      "outputs": [],
      "source": []
    },
    {
      "cell_type": "code",
      "execution_count": null,
      "metadata": {},
      "outputs": [],
      "source": []
    },
    {
      "cell_type": "code",
      "execution_count": null,
      "metadata": {},
      "outputs": [],
      "source": []
    },
    {
      "cell_type": "code",
      "execution_count": null,
      "metadata": {},
      "outputs": [],
      "source": []
    },
    {
      "cell_type": "code",
      "execution_count": null,
      "metadata": {},
      "outputs": [],
      "source": []
    },
    {
      "cell_type": "code",
      "execution_count": 32,
      "metadata": {
        "id": "22ol8piK2QIQ"
      },
      "outputs": [
        {
          "data": {
            "text/html": [
              "<style>#sk-container-id-3 {color: black;}#sk-container-id-3 pre{padding: 0;}#sk-container-id-3 div.sk-toggleable {background-color: white;}#sk-container-id-3 label.sk-toggleable__label {cursor: pointer;display: block;width: 100%;margin-bottom: 0;padding: 0.3em;box-sizing: border-box;text-align: center;}#sk-container-id-3 label.sk-toggleable__label-arrow:before {content: \"▸\";float: left;margin-right: 0.25em;color: #696969;}#sk-container-id-3 label.sk-toggleable__label-arrow:hover:before {color: black;}#sk-container-id-3 div.sk-estimator:hover label.sk-toggleable__label-arrow:before {color: black;}#sk-container-id-3 div.sk-toggleable__content {max-height: 0;max-width: 0;overflow: hidden;text-align: left;background-color: #f0f8ff;}#sk-container-id-3 div.sk-toggleable__content pre {margin: 0.2em;color: black;border-radius: 0.25em;background-color: #f0f8ff;}#sk-container-id-3 input.sk-toggleable__control:checked~div.sk-toggleable__content {max-height: 200px;max-width: 100%;overflow: auto;}#sk-container-id-3 input.sk-toggleable__control:checked~label.sk-toggleable__label-arrow:before {content: \"▾\";}#sk-container-id-3 div.sk-estimator input.sk-toggleable__control:checked~label.sk-toggleable__label {background-color: #d4ebff;}#sk-container-id-3 div.sk-label input.sk-toggleable__control:checked~label.sk-toggleable__label {background-color: #d4ebff;}#sk-container-id-3 input.sk-hidden--visually {border: 0;clip: rect(1px 1px 1px 1px);clip: rect(1px, 1px, 1px, 1px);height: 1px;margin: -1px;overflow: hidden;padding: 0;position: absolute;width: 1px;}#sk-container-id-3 div.sk-estimator {font-family: monospace;background-color: #f0f8ff;border: 1px dotted black;border-radius: 0.25em;box-sizing: border-box;margin-bottom: 0.5em;}#sk-container-id-3 div.sk-estimator:hover {background-color: #d4ebff;}#sk-container-id-3 div.sk-parallel-item::after {content: \"\";width: 100%;border-bottom: 1px solid gray;flex-grow: 1;}#sk-container-id-3 div.sk-label:hover label.sk-toggleable__label {background-color: #d4ebff;}#sk-container-id-3 div.sk-serial::before {content: \"\";position: absolute;border-left: 1px solid gray;box-sizing: border-box;top: 0;bottom: 0;left: 50%;z-index: 0;}#sk-container-id-3 div.sk-serial {display: flex;flex-direction: column;align-items: center;background-color: white;padding-right: 0.2em;padding-left: 0.2em;position: relative;}#sk-container-id-3 div.sk-item {position: relative;z-index: 1;}#sk-container-id-3 div.sk-parallel {display: flex;align-items: stretch;justify-content: center;background-color: white;position: relative;}#sk-container-id-3 div.sk-item::before, #sk-container-id-3 div.sk-parallel-item::before {content: \"\";position: absolute;border-left: 1px solid gray;box-sizing: border-box;top: 0;bottom: 0;left: 50%;z-index: -1;}#sk-container-id-3 div.sk-parallel-item {display: flex;flex-direction: column;z-index: 1;position: relative;background-color: white;}#sk-container-id-3 div.sk-parallel-item:first-child::after {align-self: flex-end;width: 50%;}#sk-container-id-3 div.sk-parallel-item:last-child::after {align-self: flex-start;width: 50%;}#sk-container-id-3 div.sk-parallel-item:only-child::after {width: 0;}#sk-container-id-3 div.sk-dashed-wrapped {border: 1px dashed gray;margin: 0 0.4em 0.5em 0.4em;box-sizing: border-box;padding-bottom: 0.4em;background-color: white;}#sk-container-id-3 div.sk-label label {font-family: monospace;font-weight: bold;display: inline-block;line-height: 1.2em;}#sk-container-id-3 div.sk-label-container {text-align: center;}#sk-container-id-3 div.sk-container {/* jupyter's `normalize.less` sets `[hidden] { display: none; }` but bootstrap.min.css set `[hidden] { display: none !important; }` so we also need the `!important` here to be able to override the default hidden behavior on the sphinx rendered scikit-learn.org. See: https://github.com/scikit-learn/scikit-learn/issues/21755 */display: inline-block !important;position: relative;}#sk-container-id-3 div.sk-text-repr-fallback {display: none;}</style><div id=\"sk-container-id-3\" class=\"sk-top-container\"><div class=\"sk-text-repr-fallback\"><pre>StackingClassifier(estimators=[(&#x27;rf&#x27;, RandomForestClassifier()),\n",
              "                               (&#x27;ab&#x27;, AdaBoostClassifier(n_estimators=100)),\n",
              "                               (&#x27;gb&#x27;, GradientBoostingClassifier())],\n",
              "                   final_estimator=LogisticRegression())</pre><b>In a Jupyter environment, please rerun this cell to show the HTML representation or trust the notebook. <br />On GitHub, the HTML representation is unable to render, please try loading this page with nbviewer.org.</b></div><div class=\"sk-container\" hidden><div class=\"sk-item sk-dashed-wrapped\"><div class=\"sk-label-container\"><div class=\"sk-label sk-toggleable\"><input class=\"sk-toggleable__control sk-hidden--visually\" id=\"sk-estimator-id-9\" type=\"checkbox\" ><label for=\"sk-estimator-id-9\" class=\"sk-toggleable__label sk-toggleable__label-arrow\">StackingClassifier</label><div class=\"sk-toggleable__content\"><pre>StackingClassifier(estimators=[(&#x27;rf&#x27;, RandomForestClassifier()),\n",
              "                               (&#x27;ab&#x27;, AdaBoostClassifier(n_estimators=100)),\n",
              "                               (&#x27;gb&#x27;, GradientBoostingClassifier())],\n",
              "                   final_estimator=LogisticRegression())</pre></div></div></div><div class=\"sk-serial\"><div class=\"sk-item\"><div class=\"sk-parallel\"><div class=\"sk-parallel-item\"><div class=\"sk-item\"><div class=\"sk-label-container\"><div class=\"sk-label sk-toggleable\"><label>rf</label></div></div><div class=\"sk-serial\"><div class=\"sk-item\"><div class=\"sk-estimator sk-toggleable\"><input class=\"sk-toggleable__control sk-hidden--visually\" id=\"sk-estimator-id-10\" type=\"checkbox\" ><label for=\"sk-estimator-id-10\" class=\"sk-toggleable__label sk-toggleable__label-arrow\">RandomForestClassifier</label><div class=\"sk-toggleable__content\"><pre>RandomForestClassifier()</pre></div></div></div></div></div></div><div class=\"sk-parallel-item\"><div class=\"sk-item\"><div class=\"sk-label-container\"><div class=\"sk-label sk-toggleable\"><label>ab</label></div></div><div class=\"sk-serial\"><div class=\"sk-item\"><div class=\"sk-estimator sk-toggleable\"><input class=\"sk-toggleable__control sk-hidden--visually\" id=\"sk-estimator-id-11\" type=\"checkbox\" ><label for=\"sk-estimator-id-11\" class=\"sk-toggleable__label sk-toggleable__label-arrow\">AdaBoostClassifier</label><div class=\"sk-toggleable__content\"><pre>AdaBoostClassifier(n_estimators=100)</pre></div></div></div></div></div></div><div class=\"sk-parallel-item\"><div class=\"sk-item\"><div class=\"sk-label-container\"><div class=\"sk-label sk-toggleable\"><label>gb</label></div></div><div class=\"sk-serial\"><div class=\"sk-item\"><div class=\"sk-estimator sk-toggleable\"><input class=\"sk-toggleable__control sk-hidden--visually\" id=\"sk-estimator-id-12\" type=\"checkbox\" ><label for=\"sk-estimator-id-12\" class=\"sk-toggleable__label sk-toggleable__label-arrow\">GradientBoostingClassifier</label><div class=\"sk-toggleable__content\"><pre>GradientBoostingClassifier()</pre></div></div></div></div></div></div></div></div><div class=\"sk-item\"><div class=\"sk-parallel\"><div class=\"sk-parallel-item\"><div class=\"sk-item\"><div class=\"sk-label-container\"><div class=\"sk-label sk-toggleable\"><label>final_estimator</label></div></div><div class=\"sk-serial\"><div class=\"sk-item\"><div class=\"sk-estimator sk-toggleable\"><input class=\"sk-toggleable__control sk-hidden--visually\" id=\"sk-estimator-id-13\" type=\"checkbox\" ><label for=\"sk-estimator-id-13\" class=\"sk-toggleable__label sk-toggleable__label-arrow\">LogisticRegression</label><div class=\"sk-toggleable__content\"><pre>LogisticRegression()</pre></div></div></div></div></div></div></div></div></div></div></div></div>"
            ],
            "text/plain": [
              "StackingClassifier(estimators=[('rf', RandomForestClassifier()),\n",
              "                               ('ab', AdaBoostClassifier(n_estimators=100)),\n",
              "                               ('gb', GradientBoostingClassifier())],\n",
              "                   final_estimator=LogisticRegression())"
            ]
          },
          "execution_count": 32,
          "metadata": {},
          "output_type": "execute_result"
        }
      ],
      "source": [
        "# Create and train Voting Classifier models\n",
        "voting_classifier = VotingClassifier(estimators=[\n",
        "    ('rf', base_models[0]),\n",
        "    ('ab', base_models_ab[0]),\n",
        "    ('gb', base_models_gb[0]),\n",
        "], voting='soft')\n",
        "voting_classifier.fit(X_train, Y_train)\n",
        "\n",
        "\n",
        "# Create and train Stacking Classifier models\n",
        "stacking_classifier = StackingClassifier(estimators=[\n",
        "    ('rf', base_models[0]),\n",
        "    ('ab', base_models_ab[0]),\n",
        "    ('gb', base_models_gb[0]),\n",
        "], final_estimator=LogisticRegression())\n",
        "stacking_classifier.fit(X_train, Y_train)"
      ]
    },
    {
      "cell_type": "code",
      "execution_count": 41,
      "metadata": {
        "colab": {
          "base_uri": "https://localhost:8080/"
        },
        "id": "_ieByea42QRA",
        "outputId": "20d76c58-2efd-4e04-ed71-027f9dff6aec"
      },
      "outputs": [
        {
          "name": "stdout",
          "output_type": "stream",
          "text": [
            "Enter number of Pregnancies: 0\n",
            "Enter Glucose level: 137\n",
            "Enter Blood Pressure: 40\n",
            "Enter Skin Thickness: 35\n",
            "Enter Insulin level: 168\n",
            "Enter BMI: 43.1\n",
            "Enter Diabetes Pedigree Function: 2.288\n",
            "Enter Age: 38\n",
            "The model predicts: Diabetes\n"
          ]
        }
      ],
      "source": [
        "# # Get input from the user\n",
        "# user_input = {\n",
        "#     'Pregnancies': float(input('Enter number of Pregnancies: ')),\n",
        "#     'Glucose': float(input('Enter Glucose level: ')),\n",
        "#     'BloodPressure': float(input('Enter Blood Pressure: ')),\n",
        "#     'SkinThickness': float(input('Enter Skin Thickness: ')),\n",
        "#     'Insulin': float(input('Enter Insulin level: ')),\n",
        "#     'BMI': float(input('Enter BMI: ')),\n",
        "#     'DiabetesPedigreeFunction': float(input('Enter Diabetes Pedigree Function: ')),\n",
        "#     'Age': float(input('Enter Age: '))\n",
        "# }\n",
        "\n",
        "# # Convert the user input into a DataFrame\n",
        "# user_df = pd.DataFrame([user_input])\n",
        "\n",
        "# # Make a prediction using the trained model\n",
        "# user_prediction = rf.predict(user_df)\n",
        "\n",
        "# # Interpret the prediction\n",
        "# if user_prediction[0] == 0:\n",
        "#     result = \"No diabetes\"\n",
        "# else:\n",
        "#     result = \"Diabetes\"\n",
        "\n",
        "# print(f\"The model predicts: {result}\")\n"
      ]
    },
    {
      "cell_type": "code",
      "execution_count": 41,
      "metadata": {
        "id": "hL1Ji4vs2QV8"
      },
      "outputs": [],
      "source": []
    }
  ],
  "metadata": {
    "colab": {
      "authorship_tag": "ABX9TyPdFSVjhctXm2RPpjZ8gWTT",
      "include_colab_link": true,
      "provenance": []
    },
    "kernelspec": {
      "display_name": "base",
      "language": "python",
      "name": "python3"
    },
    "language_info": {
      "codemirror_mode": {
        "name": "ipython",
        "version": 3
      },
      "file_extension": ".py",
      "mimetype": "text/x-python",
      "name": "python",
      "nbconvert_exporter": "python",
      "pygments_lexer": "ipython3",
      "version": "3.11.5"
    }
  },
  "nbformat": 4,
  "nbformat_minor": 0
}
